{
 "cells": [
  {
   "cell_type": "code",
   "id": "initial_id",
   "metadata": {
    "collapsed": true,
    "ExecuteTime": {
     "end_time": "2025-09-05T03:07:51.605637Z",
     "start_time": "2025-09-05T03:07:33.005080Z"
    }
   },
   "source": "from utils.main2 import run_langraph",
   "outputs": [
    {
     "name": "stderr",
     "output_type": "stream",
     "text": [
      "C:\\Users\\playdata\\Documents\\skn14_1team_f_web\\apichat\\utils\\retriever.py:31: LangChainDeprecationWarning: The class `Chroma` was deprecated in LangChain 0.2.9 and will be removed in 1.0. An updated version of the class exists in the :class:`~langchain-chroma package and should be used instead. To use it run `pip install -U :class:`~langchain-chroma` and import as `from :class:`~langchain_chroma import Chroma``.\n",
      "  vs = Chroma(\n"
     ]
    }
   ],
   "execution_count": 1
  },
  {
   "metadata": {
    "ExecuteTime": {
     "end_time": "2025-09-05T03:07:51.616055Z",
     "start_time": "2025-09-05T03:07:51.611005Z"
    }
   },
   "cell_type": "code",
   "source": [
    "dummy_history = [\n",
    "    {\"role\": \"user\", \"content\": \"firebase auth의 인증 설정에서 응답 형식은 어떻게 되나요?\"},\n",
    "    {\"role\": \"assistant\", \"content\": \"firebase의 인증 설정 응답은 JSON 형식으로 반환됩니다.\"},\n",
    "    {\"role\": \"user\", \"content\": \"people api의 프로필 설정 방식에서 응답 형식은 어떻게 되나요?\"},\n",
    "    {\"role\": \"assistant\", \"content\": \"people api의 프로필 설정 응답은 JSON 형식으로 반환됩니다.\"}\n",
    "]"
   ],
   "id": "556cb1da5382d2e9",
   "outputs": [],
   "execution_count": 2
  },
  {
   "metadata": {
    "ExecuteTime": {
     "end_time": "2025-09-05T03:09:34.209726Z",
     "start_time": "2025-09-05T03:09:31.236248Z"
    }
   },
   "cell_type": "code",
   "source": "response = run_langraph('내가 방금 뭐 물어봤어?', 'test1', dummy_history)",
   "id": "bbb2a482ee0ffa33",
   "outputs": [
    {
     "name": "stdout",
     "output_type": "stream",
     "text": [
      "생성된 질문 리스트 ['People API의 프로필 설정 응답 형식은 어떻게 되나요?']\n",
      "People API의 프로필 설정 응답 형식은 어떻게 되나요? 검색중...\n"
     ]
    }
   ],
   "execution_count": 5
  },
  {
   "metadata": {
    "ExecuteTime": {
     "end_time": "2025-09-05T03:09:34.750683Z",
     "start_time": "2025-09-05T03:09:34.734172Z"
    }
   },
   "cell_type": "code",
   "source": "print(response)",
   "id": "8b05417c43921606",
   "outputs": [
    {
     "name": "stdout",
     "output_type": "stream",
     "text": [
      "당신은 방금 \"people api의 프로필 설정 방식에서 응답 형식은 어떻게 되나요?\"라고 물어보셨습니다.\n"
     ]
    }
   ],
   "execution_count": 6
  }
 ],
 "metadata": {
  "kernelspec": {
   "display_name": "Python 3",
   "language": "python",
   "name": "python3"
  },
  "language_info": {
   "codemirror_mode": {
    "name": "ipython",
    "version": 2
   },
   "file_extension": ".py",
   "mimetype": "text/x-python",
   "name": "python",
   "nbconvert_exporter": "python",
   "pygments_lexer": "ipython2",
   "version": "2.7.6"
  }
 },
 "nbformat": 4,
 "nbformat_minor": 5
}
